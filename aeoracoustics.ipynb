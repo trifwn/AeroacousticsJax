{
 "cells": [
  {
   "cell_type": "code",
   "execution_count": 108,
   "metadata": {},
   "outputs": [],
   "source": [
    "import jax.numpy as jnp\n",
    "import numpy as np\n",
    "from jax import jit\n",
    "import pandas as pd\n",
    "import matplotlib.pyplot as plt\n",
    "from matplotlib import colormaps as cmap"
   ]
  },
  {
   "cell_type": "markdown",
   "metadata": {},
   "source": [
    "Parameters"
   ]
  },
  {
   "cell_type": "code",
   "execution_count": 109,
   "metadata": {},
   "outputs": [],
   "source": [
    "n = 201\n",
    "m = 201\n",
    "dt = 1e-1\n",
    "t_total = 0.2\n",
    "DL = 1\n",
    "N = n + 2 * DL\n",
    "M = m + 2 * DL\n",
    "Ntime = int(t_total/dt)\n",
    "\n",
    "dims = int(3) # 3 equations"
   ]
  },
  {
   "cell_type": "code",
   "execution_count": 110,
   "metadata": {},
   "outputs": [
    {
     "data": {
      "text/plain": [
       "6"
      ]
     },
     "execution_count": 110,
     "metadata": {},
     "output_type": "execute_result"
    }
   ],
   "source": [
    "len('themas')"
   ]
  },
  {
   "cell_type": "code",
   "execution_count": 111,
   "metadata": {},
   "outputs": [
    {
     "data": {
      "text/plain": [
       "Array(340.79382, dtype=float32, weak_type=True)"
      ]
     },
     "execution_count": 111,
     "metadata": {},
     "output_type": "execute_result"
    }
   ],
   "source": [
    "Mach = 0.0\n",
    "f = 10 + 0  # Hertz\n",
    "Th_0 = len(\"themas\") + 10\n",
    "a = 1 / len(\"themas\")\n",
    "T_0 = 273 + Th_0\n",
    "c_0 = jnp.sqrt(1.4*287.05*T_0)\n",
    "u_0 = Mach*c_0\n",
    "rho_0 = 1.225\n",
    "c_0"
   ]
  },
  {
   "cell_type": "markdown",
   "metadata": {},
   "source": [
    "Grid"
   ]
  },
  {
   "cell_type": "code",
   "execution_count": 112,
   "metadata": {},
   "outputs": [],
   "source": [
    "x = np.linspace(-100 - DL, 100 + DL, N)\n",
    "y = np.linspace(-100 - DL, 100 + DL, M)\n",
    "dx = x[1]-x[0]\n",
    "dy = y[1]-y[0]\n",
    "r = jnp.zeros((N,M))\n",
    "def map_to_grid(x,y):\n",
    "    return np.sqrt(x**2 + y**2)\n",
    "\n",
    "r = np.array([[map_to_grid(x[i],y[j]) for j in range(M)] for i in range(N)])"
   ]
  },
  {
   "cell_type": "markdown",
   "metadata": {},
   "source": [
    "Buffer Zone Parameters"
   ]
  },
  {
   "cell_type": "code",
   "execution_count": 113,
   "metadata": {},
   "outputs": [],
   "source": [
    "buff_m = 2.\n",
    "buff_r_0 = 100.\n",
    "buff_w =DL\n",
    "\n",
    "buff_sig_max = 10. / dx"
   ]
  },
  {
   "cell_type": "markdown",
   "metadata": {},
   "source": [
    "Constant Matrices (Linear Problem)"
   ]
  },
  {
   "cell_type": "code",
   "execution_count": 116,
   "metadata": {},
   "outputs": [],
   "source": [
    "A_x =   jnp.zeros((dims,dims))\n",
    "Lam_x = jnp.zeros((dims,dims))\n",
    "R_x =   jnp.zeros((dims,dims))\n",
    "L_x =   jnp.zeros((dims,dims))\n",
    "RAL_x = jnp.zeros((dims,dims))\n",
    "A_y =   jnp.zeros((dims, dims))\n",
    "Lam_y = jnp.zeros((dims, dims))\n",
    "R_y =   jnp.zeros((dims, dims))\n",
    "L_y =   jnp.zeros((dims, dims))\n",
    "RAL_y = jnp.zeros((dims, dims))\n",
    "\n",
    "\n",
    "A_x = A_x.at[0,0].set(u_0)\n",
    "A_x = A_x.at[0,1].set(rho_0)\n",
    "A_x = A_x.at[1,0].set(c_0**2/rho_0)\n",
    "A_x = A_x.at[1,1].set(u_0)\n",
    "A_x = A_x.at[2,2].set(u_0)\n",
    "\n",
    "A_y = A_y.at[0,2].set(rho_0)\n",
    "A_y = A_y.at[2,0].set(c_0**2/rho_0)\n",
    "\n",
    "R_x = R_x.at[0,1].set(rho_0/c_0)\n",
    "R_x = R_x.at[0,2].set(-rho_0/c_0)\n",
    "R_x = R_x.at[1,1].set(1.)\n",
    "R_x = R_x.at[1,2].set(1.)\n",
    "R_x = R_x.at[2,0].set(1.)\n",
    "\n",
    "Lam_x = Lam_x.at[0,0].set(jnp.abs(u_0))\n",
    "Lam_x = Lam_x.at[1,1].set(jnp.abs(u_0+c_0))\n",
    "Lam_x = Lam_x.at[2,2].set(jnp.abs(u_0-c_0))\n",
    "\n",
    "# L_x = L_x.at[0, 2].set(1.)\n",
    "# L_x = L_x.at[1, 0].set(c_0/(2*rho_0))\n",
    "# L_x = L_x.at[2, 0].set(-c_0/(2*rho_0))\n",
    "# L_x = L_x.at[1, 1].set(0.5)\n",
    "# L_x = L_x.at[2, 1].set(0.5)\n",
    "L_x = jnp.linalg.inv(R_x)\n",
    "\n",
    "R_y = R_y.at[0, 1].set(rho_0 / c_0)\n",
    "R_y = R_y.at[0, 2].set(-rho_0 / c_0)\n",
    "R_y = R_y.at[1, 0].set(1.0)\n",
    "R_y = R_y.at[2, 1].set(1.0)\n",
    "R_y = R_y.at[2, 2].set(1.0)\n",
    "\n",
    "Lam_y = Lam_y.at[1,1].set( jnp.abs(+ c_0))\n",
    "Lam_y = Lam_y.at[2,2].set( jnp.abs(- c_0))\n",
    "\n",
    "L_y = jnp.linalg.inv(R_y)\n",
    "# L_y = L_y.at[0, 1].set(1.0)\n",
    "# L_y = L_y.at[1, 0].set(c_0 / (2 * rho_0))\n",
    "# L_y = L_y.at[2, 0].set(-c_0 / (2 * rho_0))\n",
    "# L_y = L_y.at[1, 2].set(0.5)\n",
    "# L_y = L_y.at[2, 2].set(0.5)\n",
    "\n",
    "RAL_x = R_x@Lam_x@L_x\n",
    "RAL_y = R_y@Lam_y@L_y\n"
   ]
  },
  {
   "cell_type": "code",
   "execution_count": 104,
   "metadata": {},
   "outputs": [],
   "source": [
    "# U are the primal variables, dimensions: (N,M,dims,1)\n",
    "from jax import jit, grad, vmap\n",
    "import jax \n",
    "from jax import lax\n",
    "\n",
    "@jit\n",
    "def roes(U):\n",
    "    N, M, dims = U.shape\n",
    "    Roe_x = jnp.zeros((N-1, M-1, dims))\n",
    "    Roe_y = jnp.zeros((N-1, M-1, dims))\n",
    "    Ux_diff = jnp.gradient(U, axis=0)\n",
    "    Uy_diff = jnp.gradient(U, axis=1)\n",
    "\n",
    "    # Define a function for computing Roe_x and Roe_y for a single (i, j) pair\n",
    "    def compute_roe(i, j):\n",
    "        Ux_diff_ij = Ux_diff[i, j]\n",
    "        Uy_diff_ij = Uy_diff[i, j]\n",
    "        Roe_x_ij = RAL_x @ Ux_diff_ij\n",
    "        Roe_y_ij = RAL_y @ Uy_diff_ij\n",
    "        return Roe_x_ij, Roe_y_ij\n",
    "\n",
    "    # Vectorize the compute_roe function over the i and j dimensions\n",
    "    roe_x_batched, roe_y_batched = vmap(vmap(compute_roe, in_axes=(None, 0)), in_axes=(0, None))(jnp.arange(1, N-2), jnp.arange(1, M-2))\n",
    "\n",
    "    # Assign the computed values to the appropriate slices\n",
    "    Roe_x = Roe_x.at[1:N-2, 1:M-2].set(roe_x_batched)\n",
    "    Roe_y = Roe_y.at[1:N-2, 1:M-2].set(roe_y_batched)\n",
    "\n",
    "    return Roe_x, Roe_y\n",
    "\n",
    "@jit\n",
    "def flux(U, Roe_x, Roe_y):\n",
    "    N, M, dims = U.shape\n",
    "    flux_x = jnp.zeros((dims))\n",
    "    flux_w = jnp.zeros((dims))\n",
    "    flux_y = jnp.zeros((dims))\n",
    "    flux_s = jnp.zeros((dims))\n",
    "    F_x = jnp.zeros((N-1, M-1, dims))\n",
    "    F_y = jnp.zeros((N-1, M-1, dims))\n",
    "\n",
    "    # Define a function for computing flux for a single (i, j) pair\n",
    "    def compute_flux(i, j):\n",
    "        flux_x = jnp.dot(A_x, U[i, j])\n",
    "        flux_w = jnp.dot(A_x, U[i-1, j])\n",
    "        flux_y = jnp.dot(A_y, U[i, j])\n",
    "        flux_s = jnp.dot(A_y, U[i, j-1])\n",
    "\n",
    "        F_x_ij = 0.5 * (flux_x + flux_w - Roe_x[i, j])\n",
    "        F_y_ij = 0.5 * (flux_y + flux_s - Roe_y[i, j])\n",
    "        return F_x_ij, F_y_ij\n",
    "\n",
    "    # Vectorize the compute_flux function over the i and j dimensions\n",
    "    F_x_batched, F_y_batched = vmap(vmap(compute_flux, in_axes=(None, 0)), in_axes=(0, None))(jnp.arange(1, N-2), jnp.arange(1, M-2))\n",
    "\n",
    "    # Assign the computed values to the appropriate slices\n",
    "    F_x = F_x.at[1:N-2, 1:M-2].set(F_x_batched)\n",
    "    F_y = F_y.at[1:N-2, 1:M-2].set(F_y_batched)\n",
    "\n",
    "    return F_x, F_y\n",
    "\n",
    "@jit\n",
    "def source(U, r, t):\n",
    "    N, M, dims = U.shape\n",
    "    Q = jnp.zeros((N, M, dims))\n",
    "\n",
    "    # Define a function for computing the source for a single (i, j) pair\n",
    "    def compute_source(i, j):\n",
    "        S_u = 0.0\n",
    "        S_v = 0.0\n",
    "        S_m = jnp.sin(2 * jnp.pi * f * t) * jnp.exp(-a * r[i, j]**2) / c_0\n",
    "\n",
    "        damp = buff_sig_max * ((r[i, j] - buff_r_0) / buff_w)**buff_m\n",
    "        def cond_fun(args):\n",
    "            r, Sm , Su, Sv = args\n",
    "            jax.debug.print(r)\n",
    "            return r - buff_r_0 > 0\n",
    "        \n",
    "        def true_fun(args):\n",
    "            nonlocal U\n",
    "            r, Sm , Su, Sv = args\n",
    "            Sm = Sm - damp * U[i, j, 0]\n",
    "            Su = Su - damp * U[i, j, 1]\n",
    "            Sv = Sv - damp * U[i, j, 2]\n",
    "            return r, S_m, S_u, S_v\n",
    "        \n",
    "        def false_fun(args):\n",
    "            return args\n",
    "        \n",
    "        _, S_m, S_u, S_v = jax.lax.cond(cond_fun, true_fun, false_fun, (r[i, j], S_m, S_u, S_v))\n",
    "        \n",
    "        Q_ij = jnp.array([S_m, S_u, S_v]).reshape((dims))\n",
    "        return Q_ij\n",
    "\n",
    "    # Vectorize the compute_source function over the i and j dimensions\n",
    "    Q_batched = vmap(vmap(compute_source, in_axes=(None, 0)), in_axes=(0, None))(jnp.arange(N), jnp.arange(M))\n",
    "\n",
    "    # Assign the computed values to the appropriate slices\n",
    "    Q = Q.at[:, :, :].set(Q_batched)\n",
    "\n",
    "    return Q\n",
    "\n",
    "@jit\n",
    "def integrate_step(U, U_0, t, i):\n",
    "    Roe_x, Roe_y = roes(U)\n",
    "    Flux_x, Flux_y = flux(U, Roe_x, Roe_y)\n",
    "    Q = source(U, r, t)\n",
    "\n",
    "    def compute_dU(i, j):\n",
    "        return -dt * (\n",
    "            dy * (Flux_x[i+1, j] - Flux_x[i, j]) / dx\n",
    "            + dx * (Flux_y[i, j+1] - Flux_y[i, j]) / dy\n",
    "            - Q[i, j]\n",
    "        )\n",
    "\n",
    "    dU = vmap(vmap(compute_dU, in_axes=(0, None)), in_axes=(None, 0))(jnp.arange(1, N-2), jnp.arange(1, M-2))\n",
    "    dU2 = jnp.zeros((N, M, dims))\n",
    "    dU2 = dU2.at[1:N-2, 1:M-2].set(dU)\n",
    "    U = U_0 + (1.0 /( 5.0 - i)) * dU2\n",
    "    return U, dU2\n",
    "\n",
    "# @jit\n",
    "def rk4(r, t_total, Ntime):\n",
    "    time_s = 0.\n",
    "    time_vec = jnp.linspace(time_s, t_total, Ntime)\n",
    "    U = jnp.zeros((N, M, dims))\n",
    "    dU = np.zeros((N, M, dims))\n",
    "    U_0 = np.zeros((N, M, dims))\n",
    "\n",
    "    for k, t in enumerate(time_vec):\n",
    "        for l in range(0, 4):\n",
    "            U, dU = integrate_step(U, U_0, t, l)\n",
    "            U_0 = U\n",
    "            if jnp.isnan(U).any():\n",
    "                print(\"NaNs encountered at time: \", t)\n",
    "                break\n",
    "            print(t)\n",
    "\n",
    "    return U, dU\n"
   ]
  },
  {
   "cell_type": "code",
   "execution_count": 105,
   "metadata": {},
   "outputs": [
    {
     "ename": "TypeError",
     "evalue": "Pred type must be either boolean or number, got <function source.<locals>.compute_source.<locals>.cond_fun at 0x0000017EE9E3F740>.",
     "output_type": "error",
     "traceback": [
      "\u001b[1;31m---------------------------------------------------------------------------\u001b[0m",
      "\u001b[1;31mTypeError\u001b[0m                                 Traceback (most recent call last)",
      "File \u001b[1;32mc:\\Users\\tryfo\\anaconda3\\envs\\aero\\Lib\\site-packages\\jax\\_src\\dtypes.py:605\u001b[0m, in \u001b[0;36mdtype\u001b[1;34m(x, canonicalize)\u001b[0m\n\u001b[0;32m    604\u001b[0m \u001b[38;5;28;01mtry\u001b[39;00m:\n\u001b[1;32m--> 605\u001b[0m   dt \u001b[38;5;241m=\u001b[39m \u001b[43mnp\u001b[49m\u001b[38;5;241;43m.\u001b[39;49m\u001b[43mresult_type\u001b[49m\u001b[43m(\u001b[49m\u001b[43mx\u001b[49m\u001b[43m)\u001b[49m\n\u001b[0;32m    606\u001b[0m \u001b[38;5;28;01mexcept\u001b[39;00m \u001b[38;5;167;01mTypeError\u001b[39;00m \u001b[38;5;28;01mas\u001b[39;00m err:\n",
      "\u001b[1;31mTypeError\u001b[0m: Cannot interpret '<function source.<locals>.compute_source.<locals>.cond_fun at 0x0000017EE9E3F740>' as a data type",
      "\nThe above exception was the direct cause of the following exception:\n",
      "\u001b[1;31mTypeError\u001b[0m                                 Traceback (most recent call last)",
      "    \u001b[1;31m[... skipping hidden 1 frame]\u001b[0m\n",
      "File \u001b[1;32mc:\\Users\\tryfo\\anaconda3\\envs\\aero\\Lib\\site-packages\\jax\\_src\\dtypes.py:662\u001b[0m, in \u001b[0;36mresult_type\u001b[1;34m(return_weak_type_flag, *args)\u001b[0m\n\u001b[0;32m    661\u001b[0m dtype: DType \u001b[38;5;241m|\u001b[39m ExtendedDType\n\u001b[1;32m--> 662\u001b[0m dtype, weak_type \u001b[38;5;241m=\u001b[39m \u001b[43m_lattice_result_type\u001b[49m\u001b[43m(\u001b[49m\u001b[38;5;241;43m*\u001b[39;49m\u001b[43m(\u001b[49m\u001b[43mfloat_\u001b[49m\u001b[43m \u001b[49m\u001b[38;5;28;43;01mif\u001b[39;49;00m\u001b[43m \u001b[49m\u001b[43marg\u001b[49m\u001b[43m \u001b[49m\u001b[38;5;129;43;01mis\u001b[39;49;00m\u001b[43m \u001b[49m\u001b[38;5;28;43;01mNone\u001b[39;49;00m\u001b[43m \u001b[49m\u001b[38;5;28;43;01melse\u001b[39;49;00m\u001b[43m \u001b[49m\u001b[43marg\u001b[49m\u001b[43m \u001b[49m\u001b[38;5;28;43;01mfor\u001b[39;49;00m\u001b[43m \u001b[49m\u001b[43marg\u001b[49m\u001b[43m \u001b[49m\u001b[38;5;129;43;01min\u001b[39;49;00m\u001b[43m \u001b[49m\u001b[43margs\u001b[49m\u001b[43m)\u001b[49m\u001b[43m)\u001b[49m\n\u001b[0;32m    663\u001b[0m \u001b[38;5;28;01mif\u001b[39;00m weak_type:\n",
      "File \u001b[1;32mc:\\Users\\tryfo\\anaconda3\\envs\\aero\\Lib\\site-packages\\jax\\_src\\dtypes.py:615\u001b[0m, in \u001b[0;36m_lattice_result_type\u001b[1;34m(*args)\u001b[0m\n\u001b[0;32m    614\u001b[0m \u001b[38;5;28;01mdef\u001b[39;00m \u001b[38;5;21m_lattice_result_type\u001b[39m(\u001b[38;5;241m*\u001b[39margs: Any) \u001b[38;5;241m-\u001b[39m\u001b[38;5;241m>\u001b[39m \u001b[38;5;28mtuple\u001b[39m[DType, \u001b[38;5;28mbool\u001b[39m]:\n\u001b[1;32m--> 615\u001b[0m   dtypes, weak_types \u001b[38;5;241m=\u001b[39m \u001b[38;5;28;43mzip\u001b[39;49m\u001b[43m(\u001b[49m\u001b[38;5;241;43m*\u001b[39;49m\u001b[43m(\u001b[49m\u001b[43m_dtype_and_weaktype\u001b[49m\u001b[43m(\u001b[49m\u001b[43marg\u001b[49m\u001b[43m)\u001b[49m\u001b[43m \u001b[49m\u001b[38;5;28;43;01mfor\u001b[39;49;00m\u001b[43m \u001b[49m\u001b[43marg\u001b[49m\u001b[43m \u001b[49m\u001b[38;5;129;43;01min\u001b[39;49;00m\u001b[43m \u001b[49m\u001b[43margs\u001b[49m\u001b[43m)\u001b[49m\u001b[43m)\u001b[49m\n\u001b[0;32m    616\u001b[0m   \u001b[38;5;28;01mif\u001b[39;00m \u001b[38;5;28mlen\u001b[39m(dtypes) \u001b[38;5;241m==\u001b[39m \u001b[38;5;241m1\u001b[39m:\n",
      "File \u001b[1;32mc:\\Users\\tryfo\\anaconda3\\envs\\aero\\Lib\\site-packages\\jax\\_src\\dtypes.py:615\u001b[0m, in \u001b[0;36m<genexpr>\u001b[1;34m(.0)\u001b[0m\n\u001b[0;32m    614\u001b[0m \u001b[38;5;28;01mdef\u001b[39;00m \u001b[38;5;21m_lattice_result_type\u001b[39m(\u001b[38;5;241m*\u001b[39margs: Any) \u001b[38;5;241m-\u001b[39m\u001b[38;5;241m>\u001b[39m \u001b[38;5;28mtuple\u001b[39m[DType, \u001b[38;5;28mbool\u001b[39m]:\n\u001b[1;32m--> 615\u001b[0m   dtypes, weak_types \u001b[38;5;241m=\u001b[39m \u001b[38;5;28mzip\u001b[39m(\u001b[38;5;241m*\u001b[39m(\u001b[43m_dtype_and_weaktype\u001b[49m\u001b[43m(\u001b[49m\u001b[43marg\u001b[49m\u001b[43m)\u001b[49m \u001b[38;5;28;01mfor\u001b[39;00m arg \u001b[38;5;129;01min\u001b[39;00m args))\n\u001b[0;32m    616\u001b[0m   \u001b[38;5;28;01mif\u001b[39;00m \u001b[38;5;28mlen\u001b[39m(dtypes) \u001b[38;5;241m==\u001b[39m \u001b[38;5;241m1\u001b[39m:\n",
      "File \u001b[1;32mc:\\Users\\tryfo\\anaconda3\\envs\\aero\\Lib\\site-packages\\jax\\_src\\dtypes.py:423\u001b[0m, in \u001b[0;36m_dtype_and_weaktype\u001b[1;34m(value)\u001b[0m\n\u001b[0;32m    422\u001b[0m \u001b[38;5;250m\u001b[39m\u001b[38;5;124;03m\"\"\"Return a (dtype, weak_type) tuple for the given input.\"\"\"\u001b[39;00m\n\u001b[1;32m--> 423\u001b[0m \u001b[38;5;28;01mreturn\u001b[39;00m \u001b[43mdtype\u001b[49m\u001b[43m(\u001b[49m\u001b[43mvalue\u001b[49m\u001b[43m)\u001b[49m, \u001b[38;5;28many\u001b[39m(value \u001b[38;5;129;01mis\u001b[39;00m typ \u001b[38;5;28;01mfor\u001b[39;00m typ \u001b[38;5;129;01min\u001b[39;00m _weak_types) \u001b[38;5;129;01mor\u001b[39;00m is_weakly_typed(value)\n",
      "File \u001b[1;32mc:\\Users\\tryfo\\anaconda3\\envs\\aero\\Lib\\site-packages\\jax\\_src\\dtypes.py:607\u001b[0m, in \u001b[0;36mdtype\u001b[1;34m(x, canonicalize)\u001b[0m\n\u001b[0;32m    606\u001b[0m   \u001b[38;5;28;01mexcept\u001b[39;00m \u001b[38;5;167;01mTypeError\u001b[39;00m \u001b[38;5;28;01mas\u001b[39;00m err:\n\u001b[1;32m--> 607\u001b[0m     \u001b[38;5;28;01mraise\u001b[39;00m \u001b[38;5;167;01mTypeError\u001b[39;00m(\u001b[38;5;124mf\u001b[39m\u001b[38;5;124m\"\u001b[39m\u001b[38;5;124mCannot determine dtype of \u001b[39m\u001b[38;5;132;01m{\u001b[39;00mx\u001b[38;5;132;01m}\u001b[39;00m\u001b[38;5;124m\"\u001b[39m) \u001b[38;5;28;01mfrom\u001b[39;00m \u001b[38;5;21;01merr\u001b[39;00m\n\u001b[0;32m    608\u001b[0m \u001b[38;5;28;01mif\u001b[39;00m dt \u001b[38;5;129;01mnot\u001b[39;00m \u001b[38;5;129;01min\u001b[39;00m _jax_dtype_set \u001b[38;5;129;01mand\u001b[39;00m \u001b[38;5;129;01mnot\u001b[39;00m issubdtype(dt, extended):\n",
      "\u001b[1;31mTypeError\u001b[0m: Cannot determine dtype of <function source.<locals>.compute_source.<locals>.cond_fun at 0x0000017EE9E3F740>",
      "\nThe above exception was the direct cause of the following exception:\n",
      "\u001b[1;31mTypeError\u001b[0m                                 Traceback (most recent call last)",
      "Cell \u001b[1;32mIn[105], line 1\u001b[0m\n\u001b[1;32m----> 1\u001b[0m U \u001b[38;5;241m=\u001b[39m \u001b[43mrk4\u001b[49m\u001b[43m(\u001b[49m\u001b[43mr\u001b[49m\u001b[43m,\u001b[49m\u001b[43m \u001b[49m\u001b[38;5;241;43m.001\u001b[39;49m\u001b[43m,\u001b[49m\u001b[43m \u001b[49m\u001b[38;5;241;43m1000\u001b[39;49m\u001b[43m)\u001b[49m\n",
      "Cell \u001b[1;32mIn[104], line 131\u001b[0m, in \u001b[0;36mrk4\u001b[1;34m(r, t_total, Ntime)\u001b[0m\n\u001b[0;32m    129\u001b[0m \u001b[38;5;28;01mfor\u001b[39;00m k, t \u001b[38;5;129;01min\u001b[39;00m \u001b[38;5;28menumerate\u001b[39m(time_vec):\n\u001b[0;32m    130\u001b[0m     \u001b[38;5;28;01mfor\u001b[39;00m l \u001b[38;5;129;01min\u001b[39;00m \u001b[38;5;28mrange\u001b[39m(\u001b[38;5;241m0\u001b[39m, \u001b[38;5;241m4\u001b[39m):\n\u001b[1;32m--> 131\u001b[0m         U, dU \u001b[38;5;241m=\u001b[39m \u001b[43mintegrate_step\u001b[49m\u001b[43m(\u001b[49m\u001b[43mU\u001b[49m\u001b[43m,\u001b[49m\u001b[43m \u001b[49m\u001b[43mU_0\u001b[49m\u001b[43m,\u001b[49m\u001b[43m \u001b[49m\u001b[43mt\u001b[49m\u001b[43m,\u001b[49m\u001b[43m \u001b[49m\u001b[43ml\u001b[49m\u001b[43m)\u001b[49m\n\u001b[0;32m    132\u001b[0m         U_0 \u001b[38;5;241m=\u001b[39m U\n\u001b[0;32m    133\u001b[0m         \u001b[38;5;28;01mif\u001b[39;00m jnp\u001b[38;5;241m.\u001b[39misnan(U)\u001b[38;5;241m.\u001b[39many():\n",
      "    \u001b[1;31m[... skipping hidden 12 frame]\u001b[0m\n",
      "Cell \u001b[1;32mIn[104], line 106\u001b[0m, in \u001b[0;36mintegrate_step\u001b[1;34m(U, U_0, t, i)\u001b[0m\n\u001b[0;32m    104\u001b[0m Roe_x, Roe_y \u001b[38;5;241m=\u001b[39m roes(U)\n\u001b[0;32m    105\u001b[0m Flux_x, Flux_y \u001b[38;5;241m=\u001b[39m flux(U, Roe_x, Roe_y)\n\u001b[1;32m--> 106\u001b[0m Q \u001b[38;5;241m=\u001b[39m \u001b[43msource\u001b[49m\u001b[43m(\u001b[49m\u001b[43mU\u001b[49m\u001b[43m,\u001b[49m\u001b[43m \u001b[49m\u001b[43mr\u001b[49m\u001b[43m,\u001b[49m\u001b[43m \u001b[49m\u001b[43mt\u001b[49m\u001b[43m)\u001b[49m\n\u001b[0;32m    108\u001b[0m \u001b[38;5;28;01mdef\u001b[39;00m \u001b[38;5;21mcompute_dU\u001b[39m(i, j):\n\u001b[0;32m    109\u001b[0m     \u001b[38;5;28;01mreturn\u001b[39;00m \u001b[38;5;241m-\u001b[39mdt \u001b[38;5;241m*\u001b[39m (\n\u001b[0;32m    110\u001b[0m         dy \u001b[38;5;241m*\u001b[39m (Flux_x[i\u001b[38;5;241m+\u001b[39m\u001b[38;5;241m1\u001b[39m, j] \u001b[38;5;241m-\u001b[39m Flux_x[i, j]) \u001b[38;5;241m/\u001b[39m dx\n\u001b[0;32m    111\u001b[0m         \u001b[38;5;241m+\u001b[39m dx \u001b[38;5;241m*\u001b[39m (Flux_y[i, j\u001b[38;5;241m+\u001b[39m\u001b[38;5;241m1\u001b[39m] \u001b[38;5;241m-\u001b[39m Flux_y[i, j]) \u001b[38;5;241m/\u001b[39m dy\n\u001b[0;32m    112\u001b[0m         \u001b[38;5;241m-\u001b[39m Q[i, j]\n\u001b[0;32m    113\u001b[0m     )\n",
      "    \u001b[1;31m[... skipping hidden 12 frame]\u001b[0m\n",
      "Cell \u001b[1;32mIn[104], line 95\u001b[0m, in \u001b[0;36msource\u001b[1;34m(U, r, t)\u001b[0m\n\u001b[0;32m     92\u001b[0m     \u001b[38;5;28;01mreturn\u001b[39;00m Q_ij\n\u001b[0;32m     94\u001b[0m \u001b[38;5;66;03m# Vectorize the compute_source function over the i and j dimensions\u001b[39;00m\n\u001b[1;32m---> 95\u001b[0m Q_batched \u001b[38;5;241m=\u001b[39m \u001b[43mvmap\u001b[49m\u001b[43m(\u001b[49m\u001b[43mvmap\u001b[49m\u001b[43m(\u001b[49m\u001b[43mcompute_source\u001b[49m\u001b[43m,\u001b[49m\u001b[43m \u001b[49m\u001b[43min_axes\u001b[49m\u001b[38;5;241;43m=\u001b[39;49m\u001b[43m(\u001b[49m\u001b[38;5;28;43;01mNone\u001b[39;49;00m\u001b[43m,\u001b[49m\u001b[43m \u001b[49m\u001b[38;5;241;43m0\u001b[39;49m\u001b[43m)\u001b[49m\u001b[43m)\u001b[49m\u001b[43m,\u001b[49m\u001b[43m \u001b[49m\u001b[43min_axes\u001b[49m\u001b[38;5;241;43m=\u001b[39;49m\u001b[43m(\u001b[49m\u001b[38;5;241;43m0\u001b[39;49m\u001b[43m,\u001b[49m\u001b[43m \u001b[49m\u001b[38;5;28;43;01mNone\u001b[39;49;00m\u001b[43m)\u001b[49m\u001b[43m)\u001b[49m\u001b[43m(\u001b[49m\u001b[43mjnp\u001b[49m\u001b[38;5;241;43m.\u001b[39;49m\u001b[43marange\u001b[49m\u001b[43m(\u001b[49m\u001b[43mN\u001b[49m\u001b[43m)\u001b[49m\u001b[43m,\u001b[49m\u001b[43m \u001b[49m\u001b[43mjnp\u001b[49m\u001b[38;5;241;43m.\u001b[39;49m\u001b[43marange\u001b[49m\u001b[43m(\u001b[49m\u001b[43mM\u001b[49m\u001b[43m)\u001b[49m\u001b[43m)\u001b[49m\n\u001b[0;32m     97\u001b[0m \u001b[38;5;66;03m# Assign the computed values to the appropriate slices\u001b[39;00m\n\u001b[0;32m     98\u001b[0m Q \u001b[38;5;241m=\u001b[39m Q\u001b[38;5;241m.\u001b[39mat[:, :, :]\u001b[38;5;241m.\u001b[39mset(Q_batched)\n",
      "    \u001b[1;31m[... skipping hidden 6 frame]\u001b[0m\n",
      "Cell \u001b[1;32mIn[104], line 89\u001b[0m, in \u001b[0;36msource.<locals>.compute_source\u001b[1;34m(i, j)\u001b[0m\n\u001b[0;32m     86\u001b[0m \u001b[38;5;28;01mdef\u001b[39;00m \u001b[38;5;21mfalse_fun\u001b[39m(args):\n\u001b[0;32m     87\u001b[0m     \u001b[38;5;28;01mreturn\u001b[39;00m args\n\u001b[1;32m---> 89\u001b[0m _, S_m, S_u, S_v \u001b[38;5;241m=\u001b[39m \u001b[43mjax\u001b[49m\u001b[38;5;241;43m.\u001b[39;49m\u001b[43mlax\u001b[49m\u001b[38;5;241;43m.\u001b[39;49m\u001b[43mcond\u001b[49m\u001b[43m(\u001b[49m\u001b[43mcond_fun\u001b[49m\u001b[43m,\u001b[49m\u001b[43m \u001b[49m\u001b[43mtrue_fun\u001b[49m\u001b[43m,\u001b[49m\u001b[43m \u001b[49m\u001b[43mfalse_fun\u001b[49m\u001b[43m,\u001b[49m\u001b[43m \u001b[49m\u001b[43m(\u001b[49m\u001b[43mr\u001b[49m\u001b[43m[\u001b[49m\u001b[43mi\u001b[49m\u001b[43m,\u001b[49m\u001b[43m \u001b[49m\u001b[43mj\u001b[49m\u001b[43m]\u001b[49m\u001b[43m,\u001b[49m\u001b[43m \u001b[49m\u001b[43mS_m\u001b[49m\u001b[43m,\u001b[49m\u001b[43m \u001b[49m\u001b[43mS_u\u001b[49m\u001b[43m,\u001b[49m\u001b[43m \u001b[49m\u001b[43mS_v\u001b[49m\u001b[43m)\u001b[49m\u001b[43m)\u001b[49m\n\u001b[0;32m     91\u001b[0m Q_ij \u001b[38;5;241m=\u001b[39m jnp\u001b[38;5;241m.\u001b[39marray([S_m, S_u, S_v])\u001b[38;5;241m.\u001b[39mreshape((dims))\n\u001b[0;32m     92\u001b[0m \u001b[38;5;28;01mreturn\u001b[39;00m Q_ij\n",
      "    \u001b[1;31m[... skipping hidden 2 frame]\u001b[0m\n",
      "File \u001b[1;32mc:\\Users\\tryfo\\anaconda3\\envs\\aero\\Lib\\site-packages\\jax\\_src\\lax\\control_flow\\conditionals.py:221\u001b[0m, in \u001b[0;36m_cond\u001b[1;34m(***failed resolving arguments***)\u001b[0m\n\u001b[0;32m    219\u001b[0m \u001b[38;5;28;01mexcept\u001b[39;00m \u001b[38;5;167;01mTypeError\u001b[39;00m \u001b[38;5;28;01mas\u001b[39;00m err:\n\u001b[0;32m    220\u001b[0m   msg \u001b[38;5;241m=\u001b[39m (\u001b[38;5;124m\"\u001b[39m\u001b[38;5;124mPred type must be either boolean or number, got \u001b[39m\u001b[38;5;132;01m{}\u001b[39;00m\u001b[38;5;124m.\u001b[39m\u001b[38;5;124m\"\u001b[39m)\n\u001b[1;32m--> 221\u001b[0m   \u001b[38;5;28;01mraise\u001b[39;00m \u001b[38;5;167;01mTypeError\u001b[39;00m(msg\u001b[38;5;241m.\u001b[39mformat(pred)) \u001b[38;5;28;01mfrom\u001b[39;00m \u001b[38;5;21;01merr\u001b[39;00m\n\u001b[0;32m    223\u001b[0m \u001b[38;5;28;01mif\u001b[39;00m pred_dtype\u001b[38;5;241m.\u001b[39mkind \u001b[38;5;241m!=\u001b[39m \u001b[38;5;124m'\u001b[39m\u001b[38;5;124mb\u001b[39m\u001b[38;5;124m'\u001b[39m:\n\u001b[0;32m    224\u001b[0m   \u001b[38;5;28;01mif\u001b[39;00m pred_dtype\u001b[38;5;241m.\u001b[39mkind \u001b[38;5;129;01min\u001b[39;00m \u001b[38;5;124m'\u001b[39m\u001b[38;5;124miuf\u001b[39m\u001b[38;5;124m'\u001b[39m:\n",
      "\u001b[1;31mTypeError\u001b[0m: Pred type must be either boolean or number, got <function source.<locals>.compute_source.<locals>.cond_fun at 0x0000017EE9E3F740>."
     ]
    }
   ],
   "source": [
    "U = rk4(r, .001, 1000)"
   ]
  },
  {
   "cell_type": "code",
   "execution_count": null,
   "metadata": {},
   "outputs": [
    {
     "ename": "TypeError",
     "evalue": "tuple indices must be integers or slices, not tuple",
     "output_type": "error",
     "traceback": [
      "\u001b[1;31m---------------------------------------------------------------------------\u001b[0m",
      "\u001b[1;31mTypeError\u001b[0m                                 Traceback (most recent call last)",
      "Cell \u001b[1;32mIn[88], line 1\u001b[0m\n\u001b[1;32m----> 1\u001b[0m rho \u001b[38;5;241m=\u001b[39m np\u001b[38;5;241m.\u001b[39msqueeze(\u001b[43mU\u001b[49m\u001b[43m[\u001b[49m\u001b[43m:\u001b[49m\u001b[43m,\u001b[49m\u001b[43m:\u001b[49m\u001b[43m,\u001b[49m\u001b[38;5;241;43m0\u001b[39;49m\u001b[43m]\u001b[49m)\n\u001b[0;32m      2\u001b[0m u \u001b[38;5;241m=\u001b[39m np\u001b[38;5;241m.\u001b[39msqueeze(U[:,:,\u001b[38;5;241m1\u001b[39m])\n\u001b[0;32m      3\u001b[0m v \u001b[38;5;241m=\u001b[39m np\u001b[38;5;241m.\u001b[39msqueeze(U[:,:,\u001b[38;5;241m2\u001b[39m])\n",
      "\u001b[1;31mTypeError\u001b[0m: tuple indices must be integers or slices, not tuple"
     ]
    }
   ],
   "source": [
    "\n",
    "rho = np.squeeze(U[:,:,0])\n",
    "u = np.squeeze(U[:,:,1])\n",
    "v = np.squeeze(U[:,:,2])"
   ]
  },
  {
   "cell_type": "code",
   "execution_count": null,
   "metadata": {},
   "outputs": [],
   "source": [
    "L = 104\n",
    "\n",
    "fig, ax = plt.subplots(1, 1)\n",
    "cp = ax.contourf(x_mat, y_mat, u, levels=150)\n",
    "x_r = np.linspace(0, 100, 100)\n",
    "y_r = np.sqrt(1e4 - x_r**2)\n",
    "fig.colorbar(cp)  # Add a colorbar to a plot\n",
    "ax.set_title(\"Filled Contours Plot\")\n",
    "ax.set_xlabel(\"x (cm)\")\n",
    "ax.set_ylabel(\"y (cm)\")\n",
    "ax.plot(x_r, y_r, color=\"black\")\n",
    "ax.plot(-x_r, y_r, color=\"black\")\n",
    "ax.plot(-x_r, -y_r, color=\"black\")\n",
    "ax.plot(x_r, -y_r, color=\"black\")\n",
    "ax.set_xlim(-L, L)\n",
    "ax.set_ylim(-L, L)\n",
    "plt.show()"
   ]
  },
  {
   "cell_type": "code",
   "execution_count": null,
   "metadata": {},
   "outputs": [],
   "source": [
    "U"
   ]
  },
  {
   "cell_type": "code",
   "execution_count": null,
   "metadata": {},
   "outputs": [],
   "source": []
  }
 ],
 "metadata": {
  "kernelspec": {
   "display_name": "myp",
   "language": "python",
   "name": "python3"
  },
  "language_info": {
   "codemirror_mode": {
    "name": "ipython",
    "version": 3
   },
   "file_extension": ".py",
   "mimetype": "text/x-python",
   "name": "python",
   "nbconvert_exporter": "python",
   "pygments_lexer": "ipython3",
   "version": "3.12.0"
  }
 },
 "nbformat": 4,
 "nbformat_minor": 2
}
